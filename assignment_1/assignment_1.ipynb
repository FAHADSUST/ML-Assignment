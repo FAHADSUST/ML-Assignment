{
 "cells": [
  {
   "cell_type": "markdown",
   "metadata": {},
   "source": [
    "<img src=\"images/logo.png\" style=\"width: 100px;\"/>\n",
    "<h1><center>Assignment 1</center></h1>\n",
    "<h3><center>Basic Concepts of Machine Learning and Foundations of Concept Learning</h3></center> \n",
    "\n",
    "<center>Due: 17.11.2020 at 23:59</center>"
   ]
  },
  {
   "cell_type": "markdown",
   "metadata": {},
   "source": [
    "### How to upload:\n",
    "\n",
    "Upload your solution via the VC course. Please upload **one Zip archive** per group. The Zip must contain:\n",
    "* Your solution **notebook** (a **.ipynb** file)\n",
    "* An **images folder** with all your images (keep the size of the images relatively small)\n",
    "* A **data folder** with the datasets (you probably don't have to change anything here)\n",
    "\n",
    "Your Zip should be named after the following scheme:\n",
    "\n",
    "* assignment\\_\"**assignment number**\"\\_solution.zip"
   ]
  },
  {
   "cell_type": "markdown",
   "metadata": {},
   "source": [
    "---\n",
    "# 1) Ordering Hypotheses in a general-to-specific Lattice\n",
    "José likes to read. The library he visits uses four attributes to describe books.\n",
    "- Length (with values *short*, *medium*, *long*)\n",
    "- Language (with values *english*, *spanish*, *german*)\n",
    "- Genre (with values *crime*, *romance*, *fiction*, *biography*)\n",
    "- Format (with values *eBook*, *paperback*)\n",
    "\n",
    "Given the four hypotheses below, consisting of a conjunction of constraints on the instance attributes, build a general-to-specific lattice.  \n",
    "- h<sub>1</sub> = <*short*,&nbsp; *spanish*, *romance*, &nbsp;*paperback*>   \n",
    "- h<sub>2</sub> = \\< &nbsp;?,&nbsp; &nbsp; &nbsp; &nbsp; &nbsp; &nbsp;?,&nbsp;&nbsp; &nbsp; &nbsp;*romance*,&nbsp; *paperback*>\n",
    "- h<sub>3</sub> = \\<&nbsp; ?,&nbsp; &nbsp; &nbsp;&nbsp;*spanish*,&nbsp; &nbsp; &nbsp; ?, &nbsp; &nbsp; &nbsp; &nbsp;*paperback*>   \n",
    "- h<sub>4</sub> = \\<&nbsp; ?,&nbsp; &nbsp; &nbsp; &nbsp; &nbsp; &nbsp;?, &nbsp; &nbsp; &nbsp; &nbsp; &nbsp; ?, &nbsp; &nbsp; &nbsp; &nbsp;*paperback*>\n",
    "\n",
    "\n",
    "You can draw the lattice on a piece of paper and include a photograph of that, or use digital tools. See the very bottom of this document for tips on how to include an image in your solution.\n"
   ]
  },
  {
   "cell_type": "code",
   "execution_count": null,
   "metadata": {},
   "outputs": [],
   "source": []
  },
  {
   "cell_type": "markdown",
   "metadata": {},
   "source": [
    "---\n",
    "# 2) Instance- and Hypothesis Space\n",
    "\n",
    "The following table gives a training set for the concept *cat*:\n",
    "\n",
    "| example | *size* | *whiskers* | *color* | *fur* | *cat* |\n",
    "|:-------:|:------:|:----------:|:-------:|:-----:|:-----:|\n",
    "| 1       | small  | yes        | black   | naked | yes   |\n",
    "| 2 | large | yes | gray | long | yes |\n",
    "| 3 | large | no | white | long | no |\n",
    "| 4 | medium | yes | gray | short | yes |\n",
    "| 5 | small | no | black | naked | no |\n",
    "\n",
    "__Note__: Neither the running number nor the target concept *cat* are attributes.\n",
    "\n",
    "How many possible instances are there for this training data,\n",
    "i.e., what is the cardinality of the instance space *X*? Assume that there\n",
    "are no other attribute values than presented."
   ]
  },
  {
   "cell_type": "markdown",
   "metadata": {},
   "source": []
  },
  {
   "cell_type": "markdown",
   "metadata": {},
   "source": [
    "How many *concepts* would be in principle possible for this instance space (no particular hypothesis language is yet selected)? "
   ]
  },
  {
   "cell_type": "markdown",
   "metadata": {},
   "source": []
  },
  {
   "cell_type": "markdown",
   "metadata": {},
   "source": [
    "How many hypotheses can be syntactically formulated for this instance space using the *Find-S* hypothesis language (see slides for lecture 2, p. 4-7)?"
   ]
  },
  {
   "cell_type": "markdown",
   "metadata": {},
   "source": []
  },
  {
   "cell_type": "markdown",
   "metadata": {},
   "source": [
    "---\n",
    "# 3) Find-S\n",
    "\n",
    "Give a prove by induction for the following statement:\n",
    "\n",
    "\"*The FIND-S algorithm will always produce a hypothesis that is consistent with all instances contained in D for every given consistent (that is error-free) D.*\"\n",
    "\n",
    "A consistent *D* in this case is given, if a hypothesis in the FIND-S hypothesis language exists, that classifies all instances in *D* perfectly."
   ]
  },
  {
   "cell_type": "markdown",
   "metadata": {},
   "source": []
  },
  {
   "cell_type": "markdown",
   "metadata": {},
   "source": [
    "---\n",
    "# 4) Hypothesis Testing\n",
    "\n",
    "<br>\n",
    "Consider the mushroom dataset at \"data/UCI_mushroom_data.csv\". There are a lot of free datasets available at the UCI repository for machine learning practitioners to develop new machine learning approaches.<br>\n",
    "The mushroom dataset contains information about different kinds of mushrooms.<br> <br>\n",
    "There is a description about the different attributes and the dataset's origin in the \"data/UCI_mushroom_data_description.txt\" file. <br>\n",
    "\n",
    "We removed rows that contained missing values for your convenience. <br> <br>\n",
    "The first column of the dataset contains the class labels: <br>\n",
    "\n",
    "- **1** denotes a poisonous mushroom\n",
    "- **0** denotes a eatable mushroom\n",
    "\n",
    "There are **2156** poisonous and **3488** eatable mushrooms in the dataset.\n",
    "<br><br>\n",
    "The FIND-S Algorithm was applied to find a hypothesis to **detect poisonous mushrooms**.\n",
    "<br><br>\n",
    "Your task is to determine if the hypothesis given below is contained in the **version space** of the given mushroom dataset."
   ]
  },
  {
   "cell_type": "code",
   "execution_count": null,
   "metadata": {},
   "outputs": [],
   "source": [
    "import pandas as pd"
   ]
  },
  {
   "cell_type": "markdown",
   "metadata": {},
   "source": [
    "To do so, first start by loading and inspecting the dataset:"
   ]
  },
  {
   "cell_type": "code",
   "execution_count": null,
   "metadata": {},
   "outputs": [],
   "source": []
  },
  {
   "cell_type": "markdown",
   "metadata": {},
   "source": [
    "Hypothesis that a mushroom is poisonous:"
   ]
  },
  {
   "cell_type": "code",
   "execution_count": null,
   "metadata": {},
   "outputs": [],
   "source": [
    "hypothesis = ['?','?','?','f','f','f','c','b','?','e','b','?','?','?','?','p','?','?','?','h','v','?']"
   ]
  },
  {
   "cell_type": "markdown",
   "metadata": {},
   "source": [
    "Evaluate if the hypothesis is contained in the version space:"
   ]
  },
  {
   "cell_type": "code",
   "execution_count": null,
   "metadata": {},
   "outputs": [],
   "source": []
  },
  {
   "cell_type": "markdown",
   "metadata": {},
   "source": [
    "---\n",
    "# 5) Evaluation Metrics\n",
    "\n",
    "Now that you know, whether or not the hypothesis is contained in the version space of the dataset, you can evaluate its performance on the dataset.\n",
    "\n",
    "Evaluating your findings is immensly important in machine learning, as it can often happen that something went wrong and the results are not what you first expected.\n",
    "\n",
    "\n",
    "In order to understand what the different evaluation metrics really do calculate some of them \"by hand\" (without the help of a machine learning package like sklearn).\n",
    "\n",
    "\n",
    "First, calculate the number of **True Positives** (TP), **True Negatives** (TN), **False Positives** (FP) and **False Negatives** (FN)\n",
    "\n",
    "For further information the following resources are very helpful:\n",
    "\n",
    "* https://en.wikipedia.org/wiki/Evaluation_of_binary_classifiers\n",
    "* https://agenis.shinyapps.io/tutorial-classifier/"
   ]
  },
  {
   "cell_type": "code",
   "execution_count": null,
   "metadata": {},
   "outputs": [],
   "source": []
  },
  {
   "cell_type": "markdown",
   "metadata": {},
   "source": [
    "Calculate the **Accuracy** of the hypothesis \"by hand\":"
   ]
  },
  {
   "cell_type": "code",
   "execution_count": null,
   "metadata": {},
   "outputs": [],
   "source": []
  },
  {
   "cell_type": "markdown",
   "metadata": {},
   "source": [
    "Calculate the **Precision** of the hypothesis \"by hand\":"
   ]
  },
  {
   "cell_type": "code",
   "execution_count": null,
   "metadata": {},
   "outputs": [],
   "source": []
  },
  {
   "cell_type": "markdown",
   "metadata": {},
   "source": [
    "The machine learning package **sklearn** has a lot of usefull tools and implementations for you to use.\n",
    "\n",
    "Let's say you don't want to die from eating a random mushroom you found in the woods. \n",
    "Use sklearn's implementation of the **confusion matrix** to explain why the hypothesis represents the data well or not and if you could bet your life on the hypothesis.\n",
    "\n",
    "https://scikit-learn.org/stable/modules/generated/sklearn.metrics.confusion_matrix.html"
   ]
  },
  {
   "cell_type": "code",
   "execution_count": null,
   "metadata": {},
   "outputs": [],
   "source": [
    "from sklearn.metrics import confusion_matrix"
   ]
  },
  {
   "cell_type": "code",
   "execution_count": null,
   "metadata": {},
   "outputs": [],
   "source": []
  },
  {
   "cell_type": "markdown",
   "metadata": {},
   "source": [
    "Finally, calculate the **Recall** and the **F1-Score** of the hypothesis \"by hand\":"
   ]
  },
  {
   "cell_type": "code",
   "execution_count": null,
   "metadata": {},
   "outputs": [],
   "source": []
  },
  {
   "cell_type": "markdown",
   "metadata": {},
   "source": [
    "---\n",
    "# Tips and tricks"
   ]
  },
  {
   "cell_type": "markdown",
   "metadata": {},
   "source": [
    "\n",
    "### 1) Embedding images\n",
    "You can embed images in a jupyter notebook on two ways: <br/>\n",
    "**First**, you can use the IPython kernel to draw an image everytime the code cell is run like shown below."
   ]
  },
  {
   "cell_type": "code",
   "execution_count": null,
   "metadata": {},
   "outputs": [],
   "source": [
    "from IPython.display import Image\n",
    "Image(\"images/logo.png\")"
   ]
  },
  {
   "cell_type": "markdown",
   "metadata": {},
   "source": [
    "**Second**, you can embed images directly in a Markdown cell as shown below. You can either use markdown syntax or write plain HTML code. Sometimes HTML code is more practical, as you have much finer control over the HTML elements."
   ]
  },
  {
   "cell_type": "markdown",
   "metadata": {},
   "source": [
    "1. Markdown syntax:\n",
    "![title](images/logo.png)\n",
    "2. HTML syntax\n",
    "<img src=\"images/logo.png\" style=\"width: 70px;\"/>"
   ]
  }
 ],
 "metadata": {
  "jupytext": {
   "cell_metadata_filter": "-all",
   "encoding": "# -*- coding: utf-8 -*-",
   "notebook_metadata_filter": "-all",
   "text_representation": {
    "extension": ".py",
    "format_name": "light"
   }
  },
  "kernelspec": {
   "display_name": "Python 3",
   "language": "python",
   "name": "python3"
  },
  "language_info": {
   "codemirror_mode": {
    "name": "ipython",
    "version": 3
   },
   "file_extension": ".py",
   "mimetype": "text/x-python",
   "name": "python",
   "nbconvert_exporter": "python",
   "pygments_lexer": "ipython3",
   "version": "3.7.8"
  }
 },
 "nbformat": 4,
 "nbformat_minor": 4
}
